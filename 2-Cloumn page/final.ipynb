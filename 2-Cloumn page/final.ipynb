{
 "cells": [
  {
   "cell_type": "code",
   "execution_count": 1,
   "metadata": {},
   "outputs": [
    {
     "name": "stderr",
     "output_type": "stream",
     "text": [
      "c:\\Users\\Lenovo\\anaconda3\\Lib\\site-packages\\langchain_core\\_api\\deprecation.py:117: LangChainDeprecationWarning: The function `run` was deprecated in LangChain 0.1.0 and will be removed in 0.2.0. Use invoke instead.\n",
      "  warn_deprecated(\n"
     ]
    }
   ],
   "source": [
    "from langchain.prompts import PromptTemplate\n",
    "from langchain.llms.bedrock import Bedrock\n",
    "from langchain.chains import LLMChain\n",
    "from langchain_community.document_loaders import PyPDFLoader\n",
    "import boto3\n",
    "import botocore\n",
    "\n",
    "config = botocore.config.Config(\n",
    "    read_timeout=900,\n",
    "    connect_timeout=900,\n",
    "    retries={\"max_attempts\": 3}\n",
    ")\n",
    "\n",
    "bedrock_client = boto3.client(\n",
    "    service_name=\"bedrock-runtime\",\n",
    "    region_name=\"us-east-1\",\n",
    "    config=config,\n",
    ")\n",
    "path = (r\"C:\\Users\\Lenovo\\Documents\\Project-vs code\\Amazon Transcribe\\2-Cloumn page\\New_Fac_101.pdf\")\n",
    "loader = PyPDFLoader(path)\n",
    "docs = loader.load()\n",
    "\n",
    "template = \"\"\"\n",
    "Extract all the text datas in the given text documents and print all the text as a result in the formatted way as per the given document\n",
    "\n",
    "Instruction:\n",
    "- The given text document consists of two column,so if there is any word break inbetween\n",
    "            for example: if the document consists like 'ava ilable' you must avoid the avoid the gap and print like 'available'\n",
    "    like that for all the words.\n",
    "\n",
    "{datas}\n",
    "\"\"\"\n",
    "qa_prompt = PromptTemplate(template=template, input_variables=[\"datas\"])\n",
    "# chain_type_kwargs = {\"prompt\": qa_prompt, \"verbose\": False}\n",
    "llm = Bedrock(model_id=\"anthropic.claude-v2:1\",client=bedrock_client,model_kwargs = {\"temperature\":1e-10,\"max_tokens_to_sample\": 20000})\n",
    "llm_chain = LLMChain(prompt=qa_prompt, llm=llm, verbose= False)\n",
    "result = llm_chain.run(datas= docs)"
   ]
  },
  {
   "cell_type": "code",
   "execution_count": 2,
   "metadata": {},
   "outputs": [],
   "source": [
    "from fpdf import FPDF\n",
    "\n",
    "def text_to_pdf(text, pdf_name='output2.pdf'):\n",
    "    pdf = FPDF()\n",
    "    pdf.add_page()\n",
    "    pdf.set_font(\"Arial\", size=12)\n",
    "    encoded_text = text.encode('latin-1', 'replace').decode('latin-1')\n",
    "    \n",
    "    pdf.multi_cell(0, 10, txt=encoded_text)\n",
    "    pdf.output(pdf_name)\n",
    "\n",
    "text_to_pdf(result)"
   ]
  },
  {
   "cell_type": "code",
   "execution_count": null,
   "metadata": {},
   "outputs": [],
   "source": []
  }
 ],
 "metadata": {
  "kernelspec": {
   "display_name": "base",
   "language": "python",
   "name": "python3"
  },
  "language_info": {
   "codemirror_mode": {
    "name": "ipython",
    "version": 3
   },
   "file_extension": ".py",
   "mimetype": "text/x-python",
   "name": "python",
   "nbconvert_exporter": "python",
   "pygments_lexer": "ipython3",
   "version": "3.11.5"
  }
 },
 "nbformat": 4,
 "nbformat_minor": 2
}
