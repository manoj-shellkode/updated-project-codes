{
 "cells": [
  {
   "cell_type": "code",
   "execution_count": 68,
   "metadata": {},
   "outputs": [],
   "source": [
    "from langchain_community.document_loaders import AmazonTextractPDFLoader\n",
    "from langchain_community.document_loaders import PDFPlumberLoader\n",
    "from langchain.prompts import PromptTemplate\n",
    "from langchain.llms.bedrock import Bedrock\n",
    "from langchain.chains import LLMChain\n",
    "import boto3\n",
    "import botocore\n",
    "\n",
    "config = botocore.config.Config(\n",
    "    read_timeout=900,\n",
    "    connect_timeout=900,\n",
    "    retries={\"max_attempts\": 3}\n",
    ")\n",
    "\n",
    "bedrock_client = boto3.client(\n",
    "    service_name=\"bedrock-runtime\",\n",
    "    region_name=\"us-east-1\",\n",
    "    config=config,\n",
    ")\n",
    "\n",
    "textract_client = boto3.client(\"textract\", region_name=\"us-west-2\")\n",
    "textract_features=[\"LAYOUT\"]\n",
    "file_path = \"s3://my-s3-doc-loader/Sample1.pdf\"\n",
    "loader = AmazonTextractPDFLoader(file_path,textract_features,client=textract_client)\n",
    "docs = loader.load()"
   ]
  },
  {
   "cell_type": "code",
   "execution_count": 70,
   "metadata": {},
   "outputs": [
    {
     "name": "stdout",
     "output_type": "stream",
     "text": [
      "\n",
      "@PCPRO\n",
      "\n",
      "PCPRO. CO. UK / NEWS\n",
      "Briefing News\n",
      "\n",
      "processors no small commitment after the unmitigated disaster of its previous effort to embrace ARM, Windows RT. However, it's now been suggested that the faults with the Surface hardware were nothing to do with Intel, but with Microsoft's own software drivers. This only came to light when Microsoft CEO Satya Nadella visited PC builder Lenovo and asked how the company was coping with theSkylake problems. According to Thurrott's sources, Lenovo's management were bewildered, telling Nadella they had experienced no reliability issues with Intel's processors at all. It appears Microsoft's CEO had been led up the garden path by his own staff. If true, it suggests Microsoft's engineers were so concerned about covering their backsides that they misled their own CEO. Microsoft declined to comment on the company's internal machinations.\n",
      "\n",
      "## Consumer confidence\n",
      "\n",
      "While the revelations might temporarily sour relations between Microsoft and Intel, the row is unlikely to distract consumers, many of whom don't know or don't care what components are in their laptops - especially if the hardware is Microsoft-branded\n",
      "\n",
      "## \" It appears Microsoft's CEO Satya Nadella had been led up the garden path by his own staff\n",
      "\"I think this whole issue of Intel support is a red herring,\" said Cherry. \"I am using Surface hardware because in the event of a problem, I want to be able to walk into a Microsoft store and say 'this isn't working, fix it' \"The hardware and the software have its name on them, SO I don't care who made the processor, the disk drive, the RAM or even the pen which I never use. As far as I'm concerned, it's all from Microsoft.\"\n",
      "\n",
      "Five stories not to miss\n",
      "\n",
      "## 1 RBS to shed 40% of London IT staff\n",
      "The Unite union claimed that taxpayer-owned bank RBS was to cut 40% of its UK IT staff, with the loss of 900 jobs due to cost-cutting, restructuring and offshoring. The bank said any changes were down to it being a \"simpler, smaller\" bank, but Unite said the cuts coming into effect by 2020 would leave it \"operating a skeleton service\".\n",
      "## 2 Google searching for sexism answers\n",
      "Google came under fire for its lack of diversity after an engineer's internal manifesto went viral after claiming that \"the distribution of preferences and abilities of men and women differ in part due to biological causes\". The engineer was swiftly fired, but the fallout highlighted divisions over how women and minorities are treated and paid at the company.\n",
      "## 3 Tech leaders quit Trump board\n",
      "Tech leaders on the US's digital economy advisory board quit in protest over President Trump's refusalto condemn right-wing and white supremacist violence in Charlottesville. Confirmed resignations include Microsoft president Brad Smith, Mozilla chair Mitchell Baker and IEEE president Karen Bartleson.\n",
      "\n",
      "\n",
      "\n",
      "TalkTalk\n",
      "## 4 Talk Talk hit with ICO fine over data care\n",
      "Talk1 Talk was hit with a £100,000 fine by the Information Commissioner's Office for leaking 21,000 customer accounts to hackers in an Indian call centre, its second ICO fine in a year. The data was used to target customers with fake support calls, after \"unjustifiably wide-ranging\" permissions were given to staff of an Indian outsourcing firm.\n",
      "\n",
      "## 5 Brexit investment pain for startups\n",
      "UK tech startups face a huge drop in funding after the European Investment Fund-which poured €2.3 billion into the UK between 2011 and 15-turned off the tap. The EIF said there was no official block on post-Article 50 investment, but multiple venture-capital funds told media outlets the cash had simply dried up.\n",
      "11\n"
     ]
    }
   ],
   "source": [
    "all_page_content = \"\"\n",
    "for doc in docs:\n",
    "    all_page_content += doc.page_content\n",
    "print(all_page_content)"
   ]
  },
  {
   "cell_type": "code",
   "execution_count": 72,
   "metadata": {},
   "outputs": [],
   "source": [
    "template = \"\"\"\n",
    "Extract all the text datas in the given text documents and print all the text as a result in the formatted way as per the given document\n",
    "\n",
    "Instruction:\n",
    "- Extract all the datas ,Ensure not to skip any datas\n",
    "- The given text document consists of two column,so you must give the result as the single column so that i can easy to be convert as a pdf\n",
    "- Seperate the difference between the heading(title) and the paragraph \n",
    "- Strictly print the paragraph in the single line to convert the text in the document as single column\n",
    "- Don't mention like title , paragraph , just print the title name instead of mentioning 'title'\n",
    "- Some lines may miss the puntuations marks like \"\",'' so please add this if the marks has missed in the line\n",
    "\n",
    "\n",
    "{datas}\n",
    "\"\"\"\n",
    "qa_prompt = PromptTemplate(template=template, input_variables=[\"datas\"])\n",
    "llm = Bedrock(model_id=\"anthropic.claude-v2:1\",client=bedrock_client,model_kwargs = {\"temperature\":1e-10,\"max_tokens_to_sample\": 40000})\n",
    "llm_chain = LLMChain(prompt=qa_prompt, llm=llm, verbose= False)\n",
    "result = llm_chain.run(datas= all_page_content)"
   ]
  },
  {
   "cell_type": "code",
   "execution_count": 73,
   "metadata": {},
   "outputs": [],
   "source": [
    "text_to_remove = \"Here is the extracted text data from the given document formatted in a single column:\"\n",
    "cleaned_paragraph = result.replace(text_to_remove, \"\")"
   ]
  },
  {
   "cell_type": "code",
   "execution_count": 75,
   "metadata": {},
   "outputs": [],
   "source": [
    "from reportlab.lib.pagesizes import letter\n",
    "from reportlab.platypus import SimpleDocTemplate, Paragraph\n",
    "from reportlab.lib.styles import getSampleStyleSheet\n",
    "\n",
    "# Create a PDF document\n",
    "doc = SimpleDocTemplate(r\"C:\\Users\\Lenovo\\Documents\\Project-vs code\\Amazon Transcribe\\2-Cloumn page\\output_2column\\Output_sample1.pdf\", pagesize=letter)\n",
    "\n",
    "# Get the styles for the document\n",
    "styles = getSampleStyleSheet()\n",
    "\n",
    "# Create a list of paragraphs from the text\n",
    "paragraphs = []\n",
    "for line in cleaned_paragraph.split(\"\\n\"):\n",
    "    paragraph = Paragraph(line, styles[\"BodyText\"])\n",
    "    paragraphs.append(paragraph)\n",
    "\n",
    "# Build the PDF document\n",
    "doc.build(paragraphs)"
   ]
  }
 ],
 "metadata": {
  "kernelspec": {
   "display_name": "base",
   "language": "python",
   "name": "python3"
  },
  "language_info": {
   "codemirror_mode": {
    "name": "ipython",
    "version": 3
   },
   "file_extension": ".py",
   "mimetype": "text/x-python",
   "name": "python",
   "nbconvert_exporter": "python",
   "pygments_lexer": "ipython3",
   "version": "3.11.5"
  }
 },
 "nbformat": 4,
 "nbformat_minor": 2
}
