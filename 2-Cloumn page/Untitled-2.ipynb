{
 "cells": [
  {
   "cell_type": "code",
   "execution_count": 2,
   "metadata": {},
   "outputs": [
    {
     "name": "stdout",
     "output_type": "stream",
     "text": [
      " Here is the extracted text from the given documents in a structured format:\n",
      "\n",
      "Title: Spectrally Efficient Multi-Carrier Modulation Using Gabor Transform\n",
      "Authors: Shravan Sriram, Naveenkumar Vijayakumar, P. Aditya Kumar, Akash S. Shetty, V. P. Prasshanth, K. A. Narayanankutty\n",
      "Affiliation: Department of Electronics and Communication Engineering, Amrita School of Engineering, Amrita Vishwa Vidyapeetham University, Coimbatore, India\n",
      "Emails: sshravan91@gmail.com, naveen.vijayakumar@gmail.com, ka_narayanankutty@cb.amrita.edu\n",
      "\n",
      "Abstract: \n",
      "Non Orthogonal Frequency Division Multiplexing (NOFDM) systems make use of a transmission signal set which is not restricted to orthonormal bases unlike previous OFDM systems. The usage of non-orthogonal bases generally results in a trade-off between Bit Error Rate (BER) and receiver complexity. This paper studies the use of Gabor based on designing a Spectrally Efficient Multi-Carrier Modulation Scheme. Using Gabor Transform with a specific Gaussian envelope; we derive the expected BER-SNR performance. The spectral usage of such a NOFDM system when affected by a channel that imparts Additive White Gaussian Noise (AWGN) is estimated. We compare the obtained results with an OFDM system and observe that with comparable BER performance, this system gives a better spectral usage. The effect of window length on spectral usage is also analyzed.\n",
      "\n",
      "Keywords: Non-Orthogonal Frequency Division Multiplexing (NOFDM); Spectrally Efficient Frequency Division Multiplexing (SEFDM); Gabor Transform; OFDM; Reisz Bases; Multi Carrier Modulation (MCM) \n",
      "\n",
      "1. Introduction\n",
      "With a growth in the number of users, there is an increase in the demand for spectrum. Research pertaining to the efficient use the available spectrum has produced numerous results over the past few years. This work came to fruition in the form of Orthogonal Frequency Division Multiplexing, which is a special class of Multiple Carrier Modulation that has emerged as a leading candidate for high data rate wireless communication. The main advantage of this is its ease of implementation that eliminates ICI at low receiver complexity.\n",
      "\n",
      "2. OFDM\n",
      "[Equations and figures explaining OFDM system]\n",
      "\n",
      "3. NOFDM \n",
      "3.1. Gabor Transform\n",
      "[Equations explaining Gabor transform]\n",
      "\n",
      "3.2. Implementation of NOFDM System\n",
      "[Equations and figures explaining implementation of NOFDM system using Gabor transform]\n",
      "\n",
      "4. Simulation Results and Conclusions\n",
      "[Simulation results comparing OFDM and NOFDM]\n",
      "\n",
      "5. Summary\n",
      "The NOFDM system has been implemented. The BER vs SNR performance for a system implemented using a Gabor basis with sigma value of 2/π was found to be optimal and comparable to that of a OFDM system. The spectrum is found to be more efficient than that of OFDM systems and also the bandwidth is found to be inversely proportional to the window length of the Gabor transform.\n",
      "\n",
      "6. Acknowledgements\n",
      "We thank the faculty of the department of Electronics and Communication Engineering of Amrita Vishwa Vidyapeetham for their support and motivation. \n",
      "\n",
      "References:\n",
      "[List of 10 references]\n"
     ]
    }
   ],
   "source": [
    "from langchain.prompts import PromptTemplate\n",
    "from langchain.llms.bedrock import Bedrock\n",
    "from langchain.chains import LLMChain\n",
    "from langchain_community.document_loaders import PyPDFLoader\n",
    "import boto3\n",
    "import botocore\n",
    "\n",
    "config = botocore.config.Config(\n",
    "    read_timeout=900,\n",
    "    connect_timeout=900,\n",
    "    retries={\"max_attempts\": 3}\n",
    ")\n",
    "\n",
    "bedrock_client = boto3.client(\n",
    "    service_name=\"bedrock-runtime\",\n",
    "    region_name=\"us-east-1\",\n",
    "    config=config,\n",
    ")\n",
    "path = (r\"C:\\Users\\Lenovo\\Documents\\Project-vs code\\Amazon Transcribe\\2-Cloumn page\\WET_2013041616211199.pdf\")\n",
    "loader = PyPDFLoader(path)\n",
    "docs = loader.load()\n",
    "\n",
    "template = \"\"\"\n",
    "Extract all the text datas in the given text documents and print all the text as a result in the formatted way as per the given document\n",
    "\n",
    "Instruction:\n",
    "- The given text document consists of two column,so if there is any word break inbetween\n",
    "            for example: if the document consists like 'ava ilable' you must avoid the avoid the gap and print like 'available'\n",
    "    like that for all the words.\n",
    "- Extract all the text form the document\n",
    "- All results must be in well structured format and it is for creating a pdf document , so generate accurately\n",
    "\n",
    "{datas}\n",
    "\"\"\"\n",
    "qa_prompt = PromptTemplate(template=template, input_variables=[\"datas\"])\n",
    "# chain_type_kwargs = {\"prompt\": qa_prompt, \"verbose\": False}\n",
    "llm = Bedrock(model_id=\"anthropic.claude-v2:1\",client=bedrock_client,model_kwargs = {\"temperature\":1e-10,\"max_tokens_to_sample\": 20000})\n",
    "llm_chain = LLMChain(prompt=qa_prompt, llm=llm, verbose= False)\n",
    "result = llm_chain.run(datas= docs)\n",
    "print(result)"
   ]
  },
  {
   "cell_type": "code",
   "execution_count": null,
   "metadata": {},
   "outputs": [],
   "source": [
    "from fpdf import FPDF\n",
    "\n",
    "def text_to_pdf(text, pdf_name='output1.pdf'):\n",
    "    pdf = FPDF()\n",
    "    pdf.add_page()\n",
    "    pdf.set_font(\"Arial\", size=12)\n",
    "    \n",
    "    encoded_text = text.encode('latin-1', 'replace').decode('latin-1')\n",
    "    \n",
    "    pdf.multi_cell(0, 10, txt=encoded_text)\n",
    "    pdf.output(pdf_name)\n",
    "\n",
    "text_to_pdf(result)"
   ]
  }
 ],
 "metadata": {
  "kernelspec": {
   "display_name": "base",
   "language": "python",
   "name": "python3"
  },
  "language_info": {
   "codemirror_mode": {
    "name": "ipython",
    "version": 3
   },
   "file_extension": ".py",
   "mimetype": "text/x-python",
   "name": "python",
   "nbconvert_exporter": "python",
   "pygments_lexer": "ipython3",
   "version": "3.11.5"
  }
 },
 "nbformat": 4,
 "nbformat_minor": 2
}
