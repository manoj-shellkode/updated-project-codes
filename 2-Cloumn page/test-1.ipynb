{
 "cells": [
  {
   "cell_type": "code",
   "execution_count": 3,
   "metadata": {},
   "outputs": [],
   "source": [
    "from langchain.prompts import PromptTemplate\n",
    "from langchain.llms.bedrock import Bedrock\n",
    "from langchain.chains import LLMChain\n",
    "from langchain_community.document_loaders import PyPDFLoader\n",
    "import boto3\n",
    "\n",
    "bedrock_client = boto3.client(\n",
    "    service_name=\"bedrock-runtime\",\n",
    "    region_name=\"us-east-1\",\n",
    ")\n",
    "\n",
    "path = (r\"C:\\Users\\Lenovo\\Documents\\Project-vs code\\Amazon Transcribe\\2-Cloumn page\\WET_2013041616211199.pdf\")\n",
    "loader = PyPDFLoader(path)\n",
    "docs = loader.load()\n",
    "\n",
    "template = \"\"\"\n",
    "Read and analyse all the text datas in the documents contains two columns ,generate answer effectively\n",
    "\n",
    "Instructions:\n",
    "- Do not merge the text datas inside the documents while reading\n",
    "- Do not generate response of your own\n",
    "- If the asked question is not inside the document, simply print 'no results found'\n",
    "\n",
    "{datas}\n",
    "{question}\n",
    "\"\"\"\n",
    "qa_prompt = PromptTemplate(template=template, input_variables=[\"datas\",\"question\"])\n",
    "# chain_type_kwargs = {\"prompt\": qa_prompt, \"verbose\": False}\n",
    "llm = Bedrock(model_id=\"anthropic.claude-v2:1\",client=bedrock_client,model_kwargs = {\"temperature\":1e-10,\"max_tokens_to_sample\": 8191})\n",
    "llm_chain = LLMChain(prompt=qa_prompt, llm=llm, verbose= False)"
   ]
  },
  {
   "cell_type": "code",
   "execution_count": 4,
   "metadata": {},
   "outputs": [
    {
     "name": "stdout",
     "output_type": "stream",
     "text": [
      " Unfortunately, the documents do not contain detailed information about OFDM. The documents discuss non-orthogonal frequency division multiplexing (NOFDM) and spectrally efficient frequency division multiplexing (SEFDM) systems. Regarding OFDM, the document only states:\n",
      "\n",
      "\"In order to understand the NOFDM system, a clear understanding of the working of an OFDM system is a prerequisite.\"\n",
      "\n",
      "It does not go into any further details about how OFDM works. The focus of the documents is on NOFDM and SEFDM rather than OFDM. So there is no additional information provided to explain OFDM in detail.\n"
     ]
    }
   ],
   "source": [
    "result = llm_chain.run(datas= docs[0].page_content,question=\"Explain in detail about OFDM\")\n",
    "print(result)"
   ]
  },
  {
   "cell_type": "code",
   "execution_count": 36,
   "metadata": {},
   "outputs": [
    {
     "name": "stdout",
     "output_type": "stream",
     "text": [
      " Here is the introduction part from the document:\n",
      "\n",
      "Non Orthogonal Frequency Division Multiplexing (NOFDM) systems make use of a transmission signal set which is \\nnot restricted to orthonormal bases unlike previous OFDM systems. The usage of non-orthogonal bases generally re-\\nsults in a trade-off betw een Bit Error Rate (BER) and rece iver complexity. This paper studies the use of Gabor based on \\ndesigning a Spectrally Efficient Multi-Carrier Modulation Sc heme. Using Gabor Transform with a specific Gaussian \\nenvelope; we derive the expected BER-SNR performance. The spectral usage of such a NOFDM system when affected \\nby a channel that imparts Additive White Gaussian Noise (A WGN) is estimated. We compare the obtained results with \\nan OFDM system and observe that with comparable BER pe rformance, this system gives a better spectral usage. The \\neffect of window length on sp ectral usage is also analyzed.\n"
     ]
    }
   ],
   "source": [
    "from langchain.prompts import PromptTemplate\n",
    "from langchain.llms.bedrock import Bedrock\n",
    "from langchain.chains import LLMChain\n",
    "from langchain_community.document_loaders import PyPDFLoader\n",
    "import boto3\n",
    "from langchain.text_splitter import RecursiveCharacterTextSplitter\n",
    "\n",
    "\n",
    "bedrock_client = boto3.client(\n",
    "    service_name=\"bedrock-runtime\",\n",
    "    region_name=\"us-east-1\",\n",
    ")\n",
    "\n",
    "\n",
    "path = (r\"C:\\Users\\Lenovo\\Documents\\Project-vs code\\Amazon Transcribe\\2-Cloumn page\\WET_2013041616211199.pdf\")\n",
    "loader = PyPDFLoader(path)\n",
    "docs = loader.load()\n",
    "\n",
    "\n",
    "template = \"\"\"\n",
    "Read and analyse the text datas and print the introduction part in the document\n",
    "\n",
    "{datas}\n",
    "\"\"\"\n",
    "qa_prompt = PromptTemplate(template=template, input_variables=[\"datas\"])\n",
    "# chain_type_kwargs = {\"prompt\": qa_prompt, \"verbose\": False}\n",
    "llm = Bedrock(model_id=\"anthropic.claude-v2:1\",client=bedrock_client,model_kwargs = {\"temperature\":1e-10,\"max_tokens_to_sample\": 8191})\n",
    "llm_chain = LLMChain(prompt=qa_prompt, llm=llm, verbose= False)\n",
    "result = llm_chain.run(datas= docs)\n",
    "print(result)"
   ]
  },
  {
   "cell_type": "code",
   "execution_count": 15,
   "metadata": {},
   "outputs": [
    {
     "name": "stdout",
     "output_type": "stream",
     "text": [
      " Here is the full OFDM part extracted from the documents:\n",
      "\n",
      "2. OFDM\n",
      "In an OFDM system, the symbols obtained after constellation mapping are modulated onto orthogonal signals of different frequencies corresponding to each of the sub-carriers used [6].  \n",
      "\n",
      "S(n) = ∑ XkSk(n);             (1)\n",
      "\n",
      "where, Xk represents the symbols to be transmitted and Sk(n) represents each subcarrier given by,  \n",
      "\n",
      "Sk(n) = cos(2πkn/N) + jsin(2πkn/N)          (2)  \n",
      "\n",
      "On imposing Hermitian symmetry to the symbols i.e. Xk = X*N-k for a symbol stream of length N/2 we end up with a stream of length N where the symbols are symmetric about XN/2. Because of the use of orthogonal carriers, this modulation of symbols can be simplified and represented as taking an IFFT of the stream of symbols. Thus the IFFT and FFT pair performs the operation of modulation and demodulation of the symbols onto orthogonal Sine and Cosine subcarriers (depicted in Figure 1).  \n",
      "\n",
      "Another concept of interest is the use of cyclic prefix for the diagonalization of the channel matrix. It is this diagonalization that enables channel partitioning. Cyclic prefix also helps in the removal of ISI. Thus the transmitter portion of the OFDM system can be visualized as depicted in Figure 2.\n"
     ]
    }
   ],
   "source": [
    "from langchain.prompts import PromptTemplate\n",
    "from langchain.llms.bedrock import Bedrock\n",
    "from langchain.chains import LLMChain\n",
    "from langchain_community.document_loaders import PyPDFLoader\n",
    "import boto3\n",
    "from langchain.text_splitter import RecursiveCharacterTextSplitter\n",
    "\n",
    "\n",
    "bedrock_client = boto3.client(\n",
    "    service_name=\"bedrock-runtime\",\n",
    "    region_name=\"us-east-1\",\n",
    ")\n",
    "\n",
    "\n",
    "path = (r\"C:\\Users\\Lenovo\\Documents\\Project-vs code\\Amazon Transcribe\\2-Cloumn page\\WET_2013041616211199.pdf\")\n",
    "loader = PyPDFLoader(path)\n",
    "docs = loader.load()\n",
    "\n",
    "\n",
    "template = \"\"\"\n",
    "Read and analyse all the text datas and print the full OFDM part in the documents\n",
    "\n",
    "{datas}\n",
    "\"\"\"\n",
    "qa_prompt = PromptTemplate(template=template, input_variables=[\"datas\"])\n",
    "# chain_type_kwargs = {\"prompt\": qa_prompt, \"verbose\": False}\n",
    "llm = Bedrock(model_id=\"anthropic.claude-v2:1\",client=bedrock_client,model_kwargs = {\"temperature\":1e-10,\"max_tokens_to_sample\": 8191})\n",
    "llm_chain = LLMChain(prompt=qa_prompt, llm=llm, verbose= False)\n",
    "result = llm_chain.run(datas= docs)\n",
    "print(result)"
   ]
  },
  {
   "cell_type": "code",
   "execution_count": 20,
   "metadata": {},
   "outputs": [
    {
     "name": "stdout",
     "output_type": "stream",
     "text": [
      " Based on the documents, here is a summary of key points about DFT (Discrete Fourier Transform):\n",
      "\n",
      "- DFT is used in OFDM (Orthogonal Frequency Division Multiplexing) systems to modulate and demodulate symbols onto orthogonal sine and cosine subcarriers. The IFFT and FFT pair perform the DFT operations.\n",
      "\n",
      "- In conventional OFDM systems, the orthogonality of subcarriers means there is a tradeoff between spectral efficiency and receiver complexity.\n",
      "\n",
      "- NOFDM (Non-Orthogonal Frequency Division Multiplexing) systems give up orthogonality to gain spectral efficiency. They use non-orthogonal bases like Gabor bases.\n",
      "\n",
      "- Gabor bases allow efficient modulation/demodulation using the Gabor transform and its inverse. The transmitter uses the Gabor transform with a Gaussian window for modulation. The receiver uses the inverse Gabor transform with a conjugate Gaussian window for demodulation.\n",
      "\n",
      "- Simulations show NOFDM with Gabor bases occupies less bandwidth than conventional OFDM for the same BER performance. Bandwidth is inversely proportional to the Gabor window length.\n",
      "\n",
      "- Optimal NOFDM performance is achieved using a Gabor basis with a sigma value of 2/pi. This gives minimum 3 dB bandwidth and BER comparable to OFDM.\n",
      "\n",
      "In summary, NOFDM systems using Gabor bases and DFT operations can achieve better spectral efficiency than conventional DFT-based OFDM, while maintaining comparable BER performance. The key enabler is the use of non-orthogonal Gabor bases.\n"
     ]
    }
   ],
   "source": [
    "from langchain.prompts import PromptTemplate\n",
    "from langchain.llms.bedrock import Bedrock\n",
    "from langchain.chains import LLMChain\n",
    "from langchain_community.document_loaders import PyPDFLoader\n",
    "import boto3\n",
    "from langchain.text_splitter import RecursiveCharacterTextSplitter\n",
    "\n",
    "\n",
    "bedrock_client = boto3.client(\n",
    "    service_name=\"bedrock-runtime\",\n",
    "    region_name=\"us-east-1\",\n",
    ")\n",
    "\n",
    "\n",
    "path = (r\"C:\\Users\\Lenovo\\Documents\\Project-vs code\\Amazon Transcribe\\2-Cloumn page\\WET_2013041616211199.pdf\")\n",
    "loader = PyPDFLoader(path)\n",
    "docs = loader.load()\n",
    "\n",
    "\n",
    "template = \"\"\"\n",
    "Read and analyse all the text datas and explain about DFT in the documents\n",
    "\n",
    "{datas}\n",
    "\"\"\"\n",
    "qa_prompt = PromptTemplate(template=template, input_variables=[\"datas\"])\n",
    "# chain_type_kwargs = {\"prompt\": qa_prompt, \"verbose\": False}\n",
    "llm = Bedrock(model_id=\"anthropic.claude-v2:1\",client=bedrock_client,model_kwargs = {\"temperature\":1e-10,\"max_tokens_to_sample\": 8191})\n",
    "llm_chain = LLMChain(prompt=qa_prompt, llm=llm, verbose= False)\n",
    "result = llm_chain.run(datas= docs)\n",
    "print(result)"
   ]
  },
  {
   "cell_type": "code",
   "execution_count": 21,
   "metadata": {},
   "outputs": [
    {
     "name": "stdout",
     "output_type": "stream",
     "text": [
      " Based on the documents, here are the key points about Gabor Transform:\n",
      "\n",
      "1. Gabor transform is a type of Short Time Fourier Transform (STFT) where a Gaussian window is used for windowing the input symbols in the time domain before taking the Fourier transform. This windowing operation causes the basis functions to lose orthogonality.\n",
      "\n",
      "2. The basis functions generated by Gabor transform are non-orthogonal. However, there exists a unique dual basis set that allows the original signal to be recovered through an inverse Gabor transform.\n",
      "\n",
      "3. In the context of non-orthogonal frequency division multiplexing (NOFDM), Gabor transform is used to modulate and demodulate symbols by using the non-orthogonal Gabor basis functions. This introduces controlled non-orthogonality and allows better spectral efficiency compared to orthogonal OFDM.\n",
      "\n",
      "4. Simulation results show that with a Gabor basis having a sigma value of 2/π, the NOFDM system can achieve comparable BER performance to baseline OFDM system while occupying lesser bandwidth.\n",
      "\n",
      "5. The bandwidth occupied is inversely proportional to the window length used in Gabor transform. So shorter window length leads to better spectral efficiency but worse BER performance. An optimal tradeoff exists at a sigma value of 2/π.\n",
      "\n",
      "6. The key advantage of NOFDM system using Gabor bases is the improved spectral efficiency for comparable BER performance relative to orthogonal OFDM system. This makes it suitable for applications like DVB-T.\n",
      "\n",
      "In summary, Gabor transform with its non-orthogonal bases allows efficient implementation of NOFDM to get spectral efficiency gains while maintaining data transmission accuracy.\n"
     ]
    }
   ],
   "source": [
    "from langchain.prompts import PromptTemplate\n",
    "from langchain.llms.bedrock import Bedrock\n",
    "from langchain.chains import LLMChain\n",
    "from langchain_community.document_loaders import PyPDFLoader\n",
    "import boto3\n",
    "from langchain.text_splitter import RecursiveCharacterTextSplitter\n",
    "\n",
    "\n",
    "bedrock_client = boto3.client(\n",
    "    service_name=\"bedrock-runtime\",\n",
    "    region_name=\"us-east-1\",\n",
    ")\n",
    "\n",
    "\n",
    "path = (r\"C:\\Users\\Lenovo\\Documents\\Project-vs code\\Amazon Transcribe\\2-Cloumn page\\WET_2013041616211199.pdf\")\n",
    "loader = PyPDFLoader(path)\n",
    "docs = loader.load()\n",
    "\n",
    "\n",
    "template = \"\"\"\n",
    "Read and analyse all the text datas and explain about Gabor Transform  in the documents\n",
    "\n",
    "{datas}\n",
    "\"\"\"\n",
    "qa_prompt = PromptTemplate(template=template, input_variables=[\"datas\"])\n",
    "# chain_type_kwargs = {\"prompt\": qa_prompt, \"verbose\": False}\n",
    "llm = Bedrock(model_id=\"anthropic.claude-v2:1\",client=bedrock_client,model_kwargs = {\"temperature\":1e-10,\"max_tokens_to_sample\": 8191})\n",
    "llm_chain = LLMChain(prompt=qa_prompt, llm=llm, verbose= False)\n",
    "result = llm_chain.run(datas= docs)\n",
    "print(result)"
   ]
  },
  {
   "cell_type": "code",
   "execution_count": 22,
   "metadata": {},
   "outputs": [
    {
     "name": "stdout",
     "output_type": "stream",
     "text": [
      " Based on the documents, here are the key points about NOFDM (Non-Orthogonal Frequency Division Multiplexing):\n",
      "\n",
      "- NOFDM systems use a transmission signal set which is not restricted to orthonormal bases, unlike conventional OFDM systems. This generally results in a tradeoff between bit error rate (BER) and receiver complexity.\n",
      "\n",
      "- NOFDM aims to achieve better spectral efficiency compared to OFDM by using non-orthogonal basis functions (Riesz bases) for modulation/demodulation.\n",
      "\n",
      "- The key idea is to use a Gabor transform with a Gaussian window for modulation/demodulation. The Gaussian window induces non-orthogonality in the basis functions.\n",
      "\n",
      "- There exists a dual Gabor basis set that can be used at the receiver to recover the transmitted symbols, simplifying the receiver design compared to other NOFDM schemes.\n",
      "\n",
      "- Simulation results show that for the same BER performance as OFDM, the NOFDM system occupies less bandwidth. The bandwidth is inversely proportional to the Gabor window length.\n",
      "\n",
      "- The BER vs SNR performance of NOFDM is comparable to OFDM. It improves with decreasing Gabor window length.\n",
      "\n",
      "In summary, NOFDM aims to improve the spectral efficiency of OFDM by using non-orthogonal modulation based on the Gabor transform, while retaining the BER vs SNR performance. The receiver complexity is also reduced due to the dual Gabor bases.\n"
     ]
    }
   ],
   "source": [
    "from langchain.prompts import PromptTemplate\n",
    "from langchain.llms.bedrock import Bedrock\n",
    "from langchain.chains import LLMChain\n",
    "from langchain_community.document_loaders import PyPDFLoader\n",
    "import boto3\n",
    "from langchain.text_splitter import RecursiveCharacterTextSplitter\n",
    "\n",
    "\n",
    "bedrock_client = boto3.client(\n",
    "    service_name=\"bedrock-runtime\",\n",
    "    region_name=\"us-east-1\",\n",
    ")\n",
    "\n",
    "\n",
    "path = (r\"C:\\Users\\Lenovo\\Documents\\Project-vs code\\Amazon Transcribe\\2-Cloumn page\\WET_2013041616211199.pdf\")\n",
    "loader = PyPDFLoader(path)\n",
    "docs = loader.load()\n",
    "\n",
    "\n",
    "template = \"\"\"\n",
    "Read and analyse all the text datas and explain about NOFDM in the documents\n",
    "\n",
    "{datas}\n",
    "\"\"\"\n",
    "qa_prompt = PromptTemplate(template=template, input_variables=[\"datas\"])\n",
    "# chain_type_kwargs = {\"prompt\": qa_prompt, \"verbose\": False}\n",
    "llm = Bedrock(model_id=\"anthropic.claude-v2:1\",client=bedrock_client,model_kwargs = {\"temperature\":1e-10,\"max_tokens_to_sample\": 8191})\n",
    "llm_chain = LLMChain(prompt=qa_prompt, llm=llm, verbose= False)\n",
    "result = llm_chain.run(datas= docs)\n",
    "print(result)"
   ]
  },
  {
   "cell_type": "code",
   "execution_count": 23,
   "metadata": {},
   "outputs": [
    {
     "name": "stdout",
     "output_type": "stream",
     "text": [
      " Based on the documents, here are the key points about the implementation of NOFDM (Non-Orthogonal Frequency Division Multiplexing) system:\n",
      "\n",
      "1. NOFDM system uses non-orthogonal basis functions (Riesz basis) for modulation and demodulation instead of the orthogonal bases used in OFDM. This introduces controlled inter-carrier interference but improves spectral efficiency.\n",
      "\n",
      "2. The non-orthogonal bases are generated using a Gabor transform, which is a type of short-time Fourier transform using a Gaussian window. The Gaussian window helps provide finite support and smooth transitions in the time domain.\n",
      "\n",
      "3. A modified Gabor transform is used with a combination of Gaussian and Hanning windows. This provides better bit error rate performance compared to using just a Gaussian window.\n",
      "\n",
      "4. The Gabor bases have an associated dual basis which allows demodulation at the receiver side without much complexity. This avoids the problem of non-invertibility of non-orthogonal bases.\n",
      "\n",
      "5. The bandwidth occupied by the NOFDM signal can be reduced by increasing the Gabor transform window length. Bandwidth is inversely proportional to the window length.\n",
      "\n",
      "6. Bit error rate performance of NOFDM is comparable to OFDM but with the advantage of better spectral confinement for the same number of subcarriers. No cyclic prefix is needed.\n",
      "\n",
      "7. Optimal parameters for implementation are using a Gaussian with standard deviation (sigma) = 2/pi, and selecting the smallest possible window length that meets the bandwidth requirements.\n",
      "\n",
      "In summary, NOFDM with Gabor bases provides improved spectral efficiency compared to OFDM with manageable impact on bit error rate performance and receiver complexity. The key parameters of the Gabor transform can be optimized to tradeoff various performance metrics.\n"
     ]
    }
   ],
   "source": [
    "from langchain.prompts import PromptTemplate\n",
    "from langchain.llms.bedrock import Bedrock\n",
    "from langchain.chains import LLMChain\n",
    "from langchain_community.document_loaders import PyPDFLoader\n",
    "import boto3\n",
    "from langchain.text_splitter import RecursiveCharacterTextSplitter\n",
    "\n",
    "\n",
    "bedrock_client = boto3.client(\n",
    "    service_name=\"bedrock-runtime\",\n",
    "    region_name=\"us-east-1\",\n",
    ")\n",
    "\n",
    "\n",
    "path = (r\"C:\\Users\\Lenovo\\Documents\\Project-vs code\\Amazon Transcribe\\2-Cloumn page\\WET_2013041616211199.pdf\")\n",
    "loader = PyPDFLoader(path)\n",
    "docs = loader.load()\n",
    "\n",
    "\n",
    "template = \"\"\"\n",
    "Read and analyse all the text datas and explain about Implementation of NOFDM System in the documents\n",
    "\n",
    "{datas}\n",
    "{quetsion}\n",
    "\"\"\"\n",
    "qa_prompt = PromptTemplate(template=template, input_variables=[\"datas\"])\n",
    "# chain_type_kwargs = {\"prompt\": qa_prompt, \"verbose\": False}\n",
    "llm = Bedrock(model_id=\"anthropic.claude-v2:1\",client=bedrock_client,model_kwargs = {\"temperature\":1e-10,\"max_tokens_to_sample\": 8191})\n",
    "llm_chain = LLMChain(prompt=qa_prompt, llm=llm, verbose= False)\n",
    "result = llm_chain.run(datas= docs,question = \"\")\n",
    "print(result)"
   ]
  },
  {
   "cell_type": "code",
   "execution_count": 30,
   "metadata": {},
   "outputs": [],
   "source": [
    "from langchain.prompts import PromptTemplate\n",
    "from langchain.llms.bedrock import Bedrock\n",
    "from langchain.chains import LLMChain\n",
    "from langchain_community.document_loaders import PyPDFLoader\n",
    "import boto3\n",
    "from langchain.text_splitter import RecursiveCharacterTextSplitter\n",
    "\n",
    "\n",
    "bedrock_client = boto3.client(\n",
    "    service_name=\"bedrock-runtime\",\n",
    "    region_name=\"us-east-1\",\n",
    ")\n",
    "\n",
    "\n",
    "path = (r\"C:\\Users\\Lenovo\\Documents\\Project-vs code\\Amazon Transcribe\\2-Cloumn page\\WET_2013041616211199.pdf\")\n",
    "loader = PyPDFLoader(path)\n",
    "docs = loader.load()\n",
    "\n",
    "\n",
    "template = \"\"\"\n",
    "Read and analyse all the text datas and explain about Implementation of NOFDM System in the documents\n",
    "\n",
    "Instructions:\n",
    "- Do not provide any information that is not in the documents\n",
    "\n",
    "{datas}\n",
    "{question}\n",
    "\"\"\"\n",
    "qa_prompt = PromptTemplate(template=template, input_variables=[\"datas\",\"question\"])\n",
    "# chain_type_kwargs = {\"prompt\": qa_prompt, \"verbose\": False}\n",
    "llm = Bedrock(model_id=\"anthropic.claude-v2:1\",client=bedrock_client,model_kwargs = {\"temperature\":1e-10,\"max_tokens_to_sample\": 8191})\n",
    "llm_chain = LLMChain(prompt=qa_prompt, llm=llm, verbose= False)"
   ]
  },
  {
   "cell_type": "code",
   "execution_count": 31,
   "metadata": {},
   "outputs": [
    {
     "name": "stdout",
     "output_type": "stream",
     "text": [
      " Based on the documents, here is a summary of the key points regarding the implementation of NOFDM system:\n",
      "\n",
      "1. NOFDM (Non-orthogonal frequency division multiplexing) systems use non-orthogonal basis functions (Riesz basis) for modulation and demodulation instead of the orthogonal sine/cosine functions used in OFDM. This introduces controlled inter-carrier interference but improves spectral efficiency.\n",
      "\n",
      "2. The system implements a modified Gabor transform using a combination Gaussian and Hanning window for the basis functions. The Gaussian window provides good frequency localization while the Hanning window provides finite support.\n",
      "\n",
      "3. The transmitter modulates the input symbols onto the non-orthogonal subcarriers using the Gabor basis functions. The receiver uses the conjugate Gabor basis functions to demodulate and recover the symbols.  \n",
      "\n",
      "4. The Gabor basis functions are non-orthogonal but have a dual basis that allows symbols to be recovered through an inverse Gabor transform at the receiver.\n",
      "\n",
      "5. The bandwidth used is inversely proportional to the Gabor window length. So decreasing window length improves spectral efficiency but degrades BER performance. An optimal tradeoff is achieved at a Gaussian sigma value of 2/π.\n",
      "\n",
      "6. The BER vs SNR performance of the NOFDM system is comparable to that of a baseline OFDM system. But the NOFDM system is more spectrally efficient and occupies less bandwidth for the same number of subcarriers.\n",
      "\n",
      "In summary, the key aspect of implementation is the use of Gabor basis functions to introduce controlled non-orthogonality and improve spectral efficiency while allowing symbol recovery through the dual basis functions.\n"
     ]
    }
   ],
   "source": [
    "result = llm_chain.run(datas= docs,question = \"Implementation of NOFDM System\")\n",
    "print(result)"
   ]
  },
  {
   "cell_type": "code",
   "execution_count": 33,
   "metadata": {},
   "outputs": [
    {
     "name": "stdout",
     "output_type": "stream",
     "text": [
      " Based on the documents, here is a summary of the key points about the implementation of NOFDM system using Gabor transform:\n",
      "\n",
      "- Gabor transform is a type of short time Fourier transform (STFT) where a Gaussian window is used for windowing the input symbols in the time domain before taking the Fourier transform.\n",
      "\n",
      "- The basis functions of Gabor transform are non-orthogonal which means they are not invertible. However, Gabor bases have a unique dual basis set that allows the original signal to be recovered.\n",
      "\n",
      "- In the NOFDM system, a combination of Gaussian and Hanning window is used as the final window for modulating the symbols. \n",
      "\n",
      "- The Gaussian window with σ value of 2/π was found to give optimal BER performance. This value was used in implementing the NOFDM system.\n",
      "\n",
      "- At the receiver, the inverse Gabor transform with conjugate Gabor basis functions is used to demodulate and recover the transmitted symbols.\n",
      "\n",
      "- The use of Gabor transform basis introduces controlled non-orthogonality and allows more spectral efficiency compared to OFDM system. The NOFDM system occupies less bandwidth for the same number of subcarriers.\n",
      "\n",
      "- The BER vs SNR performance of NOFDM system was found to be comparable to OFDM system while providing better spectral efficiency.\n",
      "\n",
      "In summary, Gabor transform allowed implementing an NOFDM system with improved spectral efficiency while maintaining good BER performance. The dual basis property also simplified the receiver design.\n"
     ]
    }
   ],
   "source": [
    "result = llm_chain.run(datas= docs,question = \"Explain about Gabor Transform\")\n",
    "print(result)"
   ]
  },
  {
   "cell_type": "code",
   "execution_count": 34,
   "metadata": {},
   "outputs": [
    {
     "name": "stdout",
     "output_type": "stream",
     "text": [
      " Unfortunately, the documents do not provide detailed information to explain about the implementation of DFT (Discrete Fourier Transform) in NOFDM systems. The documents mainly focus on the implementation of a NOFDM system using Gabor transform and compare its performance to an OFDM system.\n",
      "\n",
      "Some key points about NOFDM implementation from the documents:\n",
      "\n",
      "- NOFDM systems use non-orthogonal basis functions (Riesz basis) for modulation/demodulation instead of the orthogonal sine/cosine functions used in OFDM. This introduces controlled inter-carrier interference but improves spectral efficiency.\n",
      "\n",
      "- The documents propose using a modified Gabor transform with a Gaussian+Hanning window for the non-orthogonal basis functions.\n",
      "\n",
      "- The Gabor basis functions provide a tradeoff between bit error rate (BER) and receiver complexity. The documents show the BER vs SNR performance is comparable to OFDM.\n",
      "\n",
      "- The documents analyze how the Gabor window length affects the bandwidth and BER performance of the NOFDM system. A shorter window length leads to better BER but less bandwidth savings compared to OFDM.\n",
      "\n",
      "In summary, the documents focus on Gabor transform for NOFDM but do not provide implementation details related to DFT specifically. The comparison is made to an OFDM system that uses IFFT/FFT. More details would be needed to explain a DFT-based NOFDM implementation.\n"
     ]
    }
   ],
   "source": [
    "result = llm_chain.run(datas= docs,question = \"explain about DFT\")\n",
    "print(result)"
   ]
  },
  {
   "cell_type": "code",
   "execution_count": 35,
   "metadata": {},
   "outputs": [
    {
     "name": "stdout",
     "output_type": "stream",
     "text": [
      " Based on the documents, here is a summary of the key points about OFDM (Orthogonal Frequency Division Multiplexing):\n",
      "\n",
      "- In OFDM, the symbols obtained after constellation mapping are modulated onto orthogonal sine and cosine subcarriers of different frequencies corresponding to each subcarrier (Equations 1-2).\n",
      "\n",
      "- Hermitian symmetry is imposed on the symbols so that the symbol stream length becomes N with the symbols symmetric about the N/2 symbol.\n",
      "\n",
      "- The IFFT and FFT pair performs the operations of modulation and demodulation of the symbols onto the orthogonal subcarriers.\n",
      "\n",
      "- Cyclic prefix is used to diagonalize the channel matrix, enabling channel partitioning and removal of inter-symbol interference (ISI).\n",
      "\n",
      "- The transmitter portion consists of constellation mapping, imposing Hermitian symmetry, taking IFFT to modulate symbols onto subcarriers, and adding cyclic prefix.\n",
      "\n",
      "So in summary, OFDM uses orthogonal subcarriers, IFFT/FFT for modulation/demodulation, and cyclic prefix to deal with channel effects, resulting in an efficient multicarrier transmission scheme.\n"
     ]
    }
   ],
   "source": [
    "result = llm_chain.run(datas= docs,question = \"Explain about OFDM\")\n",
    "print(result)"
   ]
  }
 ],
 "metadata": {
  "kernelspec": {
   "display_name": "base",
   "language": "python",
   "name": "python3"
  },
  "language_info": {
   "codemirror_mode": {
    "name": "ipython",
    "version": 3
   },
   "file_extension": ".py",
   "mimetype": "text/x-python",
   "name": "python",
   "nbconvert_exporter": "python",
   "pygments_lexer": "ipython3",
   "version": "3.11.5"
  }
 },
 "nbformat": 4,
 "nbformat_minor": 2
}
