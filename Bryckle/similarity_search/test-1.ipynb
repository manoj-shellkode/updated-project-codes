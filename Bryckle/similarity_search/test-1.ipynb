{
 "cells": [
  {
   "cell_type": "code",
   "execution_count": 2,
   "metadata": {},
   "outputs": [],
   "source": [
    "from langchain.llms.bedrock import Bedrock\n",
    "from langchain.text_splitter import RecursiveCharacterTextSplitter\n",
    "from langchain_community.embeddings.huggingface import HuggingFaceEmbeddings\n",
    "from langchain.vectorstores import FAISS\n",
    "from langchain.prompts import PromptTemplate\n",
    "from langchain.chains import RetrievalQA\n",
    "from langchain_community.document_loaders import PyPDFLoader\n",
    "import boto3\n",
    "import botocore\n",
    "config = botocore.config.Config(\n",
    "    read_timeout=900,\n",
    "    connect_timeout=900,\n",
    "    retries={\"max_attempts\": 0}\n",
    ")\n",
    "\n",
    "\n",
    "bedrock_client = boto3.client(\n",
    "    service_name=\"bedrock-runtime\",\n",
    "    region_name=\"us-east-1\",\n",
    "    config=config,\n",
    ")\n",
    "\n",
    "file_path = (r\"C:\\Users\\Lenovo\\Documents\\Project-vs code\\Amazon Transcribe\\Bryckle\\Dallas, TX Olympus, Master Lease Agreement, Brillio LLC.pdf\")\n",
    "\n",
    "loader = PyPDFLoader(file_path)\n",
    "docs=loader.load()\n"
   ]
  },
  {
   "cell_type": "code",
   "execution_count": 13,
   "metadata": {},
   "outputs": [],
   "source": [
    "text_splitter = RecursiveCharacterTextSplitter(chunk_size=400,chunk_overlap=0)\n",
    "texts = text_splitter.split_documents(docs)\n",
    "\n",
    "embeddings = HuggingFaceEmbeddings(model_name=\"sentence-transformers/all-MiniLM-L6-v2\")\n",
    "db = FAISS.from_documents(documents=texts, embedding=embeddings)\n",
    "question = \"Summarize all clauses that references federal, state , city lor town laws and regulations the tenant needs to comply with\"\n",
    "data = db.similarity_search(question, k=5, include_metadata=True)\n",
    "template = \"\"\"\n",
    "    You will be given a query, Your task is to find an answer or give information about the query with respect to the document by performing a similarity search.\n",
    "    Consider the following conditions,\n",
    "    - If query is a topic, look for information or statements or sentences which are related to the query in the document.\n",
    "    - The answer does not need to be specifically related, it can be loosely related as well.\n",
    "    - If you find any statements that are directly related to the query, then explain those statements in easy or layman terms, so someone with no expertise in that field can understand.\n",
    "    - If query is a question, understand the context of query and then look for similar statements or sentences in the document which also have the same context.\n",
    "    - It is not necessary to return direct statements from the document as an answer. You can also return loosely related answers to the query.\n",
    "    - If you cannot find any direct statements or directly relevant answers, do not return that you cannot find any direct statements. Then, you have to perform a semantic search instead of looking for exact words in the document, that is, understanding the context from the query and looking for something similar in the document.\n",
    "    - It is not mandatory to look for direct statements, you can also look at statements with a similar meaning and context.\n",
    "    - The output should just be a bullet list of points which has the summary of all points obtained from the search\n",
    "    - It is fine if you cannot find any directly related statements in the document. You can look for sentences with similar meaning and can also return loosely related answers.\n",
    "    - Elaborate the answer as much as you can.\n",
    "    - You have provided with the metadata so while providing answers,strictly print the page number and the filename along with the answer\n",
    "    Instructions:\n",
    "            - If the exact answer to the question is not found on the given document simply print 'The document is silent on this'\n",
    "\n",
    "{context}\n",
    "{question}\n",
    "\"\"\""
   ]
  },
  {
   "cell_type": "code",
   "execution_count": 11,
   "metadata": {},
   "outputs": [
    {
     "name": "stdout",
     "output_type": "stream",
     "text": [
      " Here are the relevant statements from the documents referencing laws and regulations the tenant needs to comply with:\n",
      "\n",
      "Document 1, Page 22:\n",
      "\"(iv) Tenant shall ensure that such system shall comply with all Laws, including all fire safety \\nlaws\"\n",
      "\n",
      "Document 2, Page 14: \n",
      "\"Tenant shall comply with the rules and regulations of the Project.\"\n",
      "\n",
      "Document 3, Page 23:\n",
      "\"Tenant represents and warrants to Landlord that Tenant is \\ncurrently in compliance with and shall at all times during the Term (including any extension thereof) remain in compliance\"\n",
      "\n",
      "Document 4, Page 10:\n",
      "\"Tenant shall continuously occupy and use the Premises only for the Permitted Use and shall comply \\nwith all Laws relating to this Lease and/or the use, condition, ac cess to, and occupancy of the Premises\"\n",
      "\n",
      "The key points are that the tenant must comply with all applicable laws, rules, regulations, and fire safety laws relating to the lease, use, occupancy, and condition of the premises. The tenant must also remain in compliance at all times during the lease term.\n"
     ]
    }
   ],
   "source": [
    "llm = Bedrock(model_id=\"anthropic.claude-v2:1\",client=bedrock_client,model_kwargs = {\"temperature\":1e-10,\"max_tokens_to_sample\": 30000})\n",
    "qa_prompt = PromptTemplate(template=template, input_variables=[\"context\",\"question\"])\n",
    "prompt = qa_prompt.format(context=data, question=question)\n",
    "result = llm.invoke(prompt)\n",
    "print(result)"
   ]
  }
 ],
 "metadata": {
  "kernelspec": {
   "display_name": "base",
   "language": "python",
   "name": "python3"
  },
  "language_info": {
   "codemirror_mode": {
    "name": "ipython",
    "version": 3
   },
   "file_extension": ".py",
   "mimetype": "text/x-python",
   "name": "python",
   "nbconvert_exporter": "python",
   "pygments_lexer": "ipython3",
   "version": "3.11.5"
  }
 },
 "nbformat": 4,
 "nbformat_minor": 2
}
