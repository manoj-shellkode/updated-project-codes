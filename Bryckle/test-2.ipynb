{
 "cells": [
  {
   "cell_type": "code",
   "execution_count": 1,
   "metadata": {},
   "outputs": [],
   "source": [
    "from langchain.llms.bedrock import Bedrock\n",
    "from langchain.text_splitter import RecursiveCharacterTextSplitter\n",
    "from langchain_community.embeddings.huggingface import HuggingFaceEmbeddings\n",
    "from langchain.vectorstores import FAISS\n",
    "from langchain.prompts import PromptTemplate\n",
    "from langchain.chains import RetrievalQA\n",
    "from langchain_community.document_loaders import PyPDFLoader\n",
    "import boto3\n",
    "import botocore\n",
    "config = botocore.config.Config(\n",
    "    read_timeout=900,\n",
    "    connect_timeout=900,\n",
    "    retries={\"max_attempts\": 0}\n",
    ")\n",
    "\n",
    "\n",
    "bedrock_client = boto3.client(\n",
    "    service_name=\"bedrock-runtime\",\n",
    "    region_name=\"us-east-1\",\n",
    "    config=config,\n",
    ")\n",
    "\n",
    "file_path = (r\"C:\\Users\\Lenovo\\Documents\\Project-vs code\\Amazon Transcribe\\Bryckle\\Dallas, TX Olympus, Master Lease Agreement, Brillio LLC.pdf\")\n",
    "\n",
    "loader = PyPDFLoader(file_path)\n",
    "docs=loader.load()\n"
   ]
  },
  {
   "cell_type": "code",
   "execution_count": 44,
   "metadata": {},
   "outputs": [],
   "source": [
    "text_splitter = RecursiveCharacterTextSplitter(chunk_size=400,chunk_overlap=0)\n",
    "texts = text_splitter.split_documents(docs)\n",
    "\n",
    "embeddings = HuggingFaceEmbeddings(model_name=\"sentence-transformers/all-MiniLM-L6-v2\")\n",
    "db = FAISS.from_documents(documents=texts,embedding=embeddings)\n",
    "\n",
    "template = \"\"\"\n",
    "    You will be given a query, Your task is to find an answer or give information about the query with respect to the document by performing a similarity search.\n",
    "    Consider the following conditions,\n",
    "    - If query is a topic, look for information or statements or sentences which are related to the query in the document.\n",
    "    - The answer does not need to be specifically related, it can be loosely related as well.\n",
    "    - If you find any statements that are directly related to the query, then explain those statements in easy or layman terms, so someone with no expertise in that field can understand.\n",
    "    - If query is a question, understand the context of query and then look for similar statements or sentences in the document which also have the same context.\n",
    "    - It is not necessary to return direct statements from the document as an answer. You can also return loosely related answers to the query.\n",
    "    - If you cannot find any direct statements or directly relevant answers, do not return that you cannot find any direct statements. Then, you have to perform a semantic search instead of looking for exact words in the document, that is, understanding the context from the query and looking for something similar in the document.\n",
    "    - It is not mandatory to look for direct statements, you can also look at statements with a similar meaning and context.\n",
    "    - The output should just be a bullet list of points which has the summary of all points obtained from the search\n",
    "    - It is fine if you cannot find any directly related statements in the document. You can look for sentences with similar meaning and can also return loosely related answers.\n",
    "    - Elaborate the answer as much as you can.\n",
    "    Instructions:\n",
    "            - If the exact answer to the question is not found on the given document simply print 'The document is silent on this'\n",
    "\n",
    "{context}\n",
    "{question}\n",
    "\"\"\""
   ]
  },
  {
   "cell_type": "code",
   "execution_count": 45,
   "metadata": {},
   "outputs": [],
   "source": [
    "retriever = db.as_retriever(search_type='similarity', search_kwargs={\"k\": 3})\n",
    "llm = Bedrock(model_id=\"anthropic.claude-v2:1\",client=bedrock_client,model_kwargs = {\"temperature\":1e-10,\"max_tokens_to_sample\": 30000})\n",
    "qa_prompt = PromptTemplate(template=template, input_variables=[\"context\",\"question\"])\n",
    "chain_type_kwargs = { \"prompt\": qa_prompt, \"verbose\": False }\n",
    "qa = RetrievalQA.from_chain_type(\n",
    "    llm=llm,\n",
    "    chain_type=\"stuff\",\n",
    "    retriever=retriever,\n",
    "    chain_type_kwargs=chain_type_kwargs,\n",
    "    verbose=False\n",
    ")"
   ]
  },
  {
   "cell_type": "code",
   "execution_count": 60,
   "metadata": {},
   "outputs": [
    {
     "name": "stdout",
     "output_type": "stream",
     "text": [
      " The document does not directly state the email address or phone number for the landlord contact to send notices. However, it provides some relevant information about notices:\n",
      "\n",
      "- Notices can be delivered to the tenant by electronic mail to the email address Austin.hamilton@brillio.com (Section on notice provision)\n",
      "\n",
      "- Prior to the Commencement Date, the registered agent address for the Tenant shall be an appropriate address for notice (Section on notice provision)  \n",
      "\n",
      "- From and after the Commencement Date, the Premises shall be an appropriate address for notice to the Tenant (Section on notice provision)\n",
      "\n",
      "So in summary, the document is silent on providing a specific email address or phone number for the landlord contact for notices. It suggests sending notices to the Tenant via email or to the Tenant's registered agent address or the Premises address, depending on the timing, but does not specify the landlord's contact information.\n"
     ]
    }
   ],
   "source": [
    "question=\"If email or phone number is provided for the landlord contact for notices, capture that\"\n",
    "result = qa.run(question)\n",
    "print(result)"
   ]
  },
  {
   "cell_type": "code",
   "execution_count": null,
   "metadata": {},
   "outputs": [],
   "source": []
  }
 ],
 "metadata": {
  "kernelspec": {
   "display_name": "base",
   "language": "python",
   "name": "python3"
  },
  "language_info": {
   "codemirror_mode": {
    "name": "ipython",
    "version": 3
   },
   "file_extension": ".py",
   "mimetype": "text/x-python",
   "name": "python",
   "nbconvert_exporter": "python",
   "pygments_lexer": "ipython3",
   "version": "3.11.5"
  }
 },
 "nbformat": 4,
 "nbformat_minor": 2
}
