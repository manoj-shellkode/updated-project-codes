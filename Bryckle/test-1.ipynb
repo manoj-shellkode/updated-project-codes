{
 "cells": [
  {
   "cell_type": "code",
   "execution_count": 2,
   "metadata": {},
   "outputs": [],
   "source": [
    "from langchain.llms.bedrock import Bedrock\n",
    "from langchain.text_splitter import RecursiveCharacterTextSplitter\n",
    "from langchain_community.embeddings.huggingface import HuggingFaceEmbeddings\n",
    "from langchain.vectorstores import FAISS\n",
    "from langchain.prompts import PromptTemplate\n",
    "from langchain.chains import RetrievalQA\n",
    "from langchain_community.document_loaders import PyPDFLoader\n",
    "import boto3\n",
    "import botocore\n",
    "config = botocore.config.Config(\n",
    "    read_timeout=900,\n",
    "    connect_timeout=900,\n",
    "    retries={\"max_attempts\": 0}\n",
    ")\n",
    "\n",
    "\n",
    "bedrock_client = boto3.client(\n",
    "    service_name=\"bedrock-runtime\",\n",
    "    region_name=\"us-east-1\",\n",
    "    config=config,\n",
    ")\n",
    "\n",
    "file_path = (r\"C:\\Users\\Lenovo\\Documents\\Project-vs code\\Amazon Transcribe\\Bryckle\\Dallas, TX Olympus, Master Lease Agreement, Brillio LLC.pdf\")\n",
    "\n",
    "loader = PyPDFLoader(file_path)\n",
    "docs=loader.load()\n"
   ]
  },
  {
   "cell_type": "code",
   "execution_count": 3,
   "metadata": {},
   "outputs": [],
   "source": [
    "text_splitter = RecursiveCharacterTextSplitter(chunk_size=400,chunk_overlap=0)\n",
    "texts = text_splitter.split_documents(docs)\n",
    "\n",
    "embeddings = HuggingFaceEmbeddings(model_name=\"sentence-transformers/all-MiniLM-L6-v2\")\n",
    "db = FAISS.from_documents(documents=texts,embedding=embeddings)\n",
    "\n",
    "template = \"\"\"\n",
    "    You will be given a query, Your task is to find an answer or give information about the query with respect to the document by performing a similarity search.\n",
    "    Consider the following conditions,\n",
    "    - If query is a topic, look for information or statements or sentences which are related to the query in the document.\n",
    "    - The answer does not need to be specifically related, it can be loosely related as well.\n",
    "    - If you find any statements that are directly related to the query, then explain those statements in easy or layman terms, so someone with no expertise in that field can understand.\n",
    "    - If query is a question, understand the context of query and then look for similar statements or sentences in the document which also have the same context.\n",
    "    - It is not necessary to return direct statements from the document as an answer. You can also return loosely related answers to the query.\n",
    "    - If you cannot find any direct statements or directly relevant answers, do not return that you cannot find any direct statements. Then, you have to perform a semantic search instead of looking for exact words in the document, that is, understanding the context from the query and looking for something similar in the document.\n",
    "    - It is not mandatory to look for direct statements, you can also look at statements with a similar meaning and context.\n",
    "    - It is fine if you cannot find any directly related statements in the document. You can look for sentences with similar meaning and can also return loosely related answers.\n",
    "    - Elaborate the answer as much as you can.\n",
    "    - The output should just be a bullet list of points which has the summary of all points obtained from the search\n",
    "    - If you cannot find a relevant answer, then perform a similarity search on all statements which have a similar meaning to the query, and the document.\n",
    "    - If even after doing the search on similar statements, you can't find an answer, you can just say that you are not able to find any answer without saying anything else.\n",
    "\n",
    "{context}\n",
    "{question}\n",
    "\"\"\""
   ]
  },
  {
   "cell_type": "code",
   "execution_count": 4,
   "metadata": {},
   "outputs": [],
   "source": [
    "retriever = db.as_retriever(search_type='similarity', search_kwargs={\"k\": 3})\n",
    "llm = Bedrock(model_id=\"anthropic.claude-v2:1\",client=bedrock_client,model_kwargs = {\"temperature\":1e-10,\"max_tokens_to_sample\": 30000})\n",
    "qa_prompt = PromptTemplate(template=template, input_variables=[\"context\",\"question\"])\n",
    "chain_type_kwargs = { \"prompt\": qa_prompt, \"verbose\": False }\n",
    "qa = RetrievalQA.from_chain_type(\n",
    "    llm=llm,\n",
    "    chain_type=\"stuff\",\n",
    "    retriever=retriever,\n",
    "    chain_type_kwargs=chain_type_kwargs,\n",
    "    verbose=False\n",
    ")"
   ]
  },
  {
   "cell_type": "code",
   "execution_count": 83,
   "metadata": {},
   "outputs": [
    {
     "name": "stdout",
     "output_type": "stream",
     "text": [
      " The document discusses notices and contact information for the tenant in several places. Here are the key relevant statements I found:\n",
      "\n",
      "1. If the Basic Lease Information section leaves tenant's notice information blank or incomplete, then prior to the Commencement Date, the registered agent address for the tenant shall be an appropriate address for notice. After the Commencement Date, the Premises shall be an appropriate address for notice.\n",
      "\n",
      "2. There is a provision that the landlord can show the Premises to prospective purchasers, lenders, or new tenants by giving the tenant 10-days prior notice. Such notice may be delivered by email to Austin.hamilton@brillio.com. \n",
      "\n",
      "3. The document also grants the landlord a power of attorney to execute and file any financing statement or other instrument necessary to perfect a security interest, at the tenant's expense.\n",
      "\n",
      "In summary, the key contact information provided for sending notices to the tenant is:\n",
      "\n",
      "- Prior to Commencement Date: Registered agent address\n",
      "- After Commencement Date: The Premises \n",
      "- Email: Austin.hamilton@brillio.com\n",
      "\n",
      "I've captured the email address provided specifically for sending notices to the tenant contact. Let me know if you need any other details from the statements related to notices and tenant contact information.\n"
     ]
    }
   ],
   "source": [
    "question=\"If email or phone number is provided for the tenant contact for notices, capture that\"\n",
    "result = qa.run(question)\n",
    "print(result)"
   ]
  }
 ],
 "metadata": {
  "kernelspec": {
   "display_name": "base",
   "language": "python",
   "name": "python3"
  },
  "language_info": {
   "codemirror_mode": {
    "name": "ipython",
    "version": 3
   },
   "file_extension": ".py",
   "mimetype": "text/x-python",
   "name": "python",
   "nbconvert_exporter": "python",
   "pygments_lexer": "ipython3",
   "version": "3.11.5"
  }
 },
 "nbformat": 4,
 "nbformat_minor": 2
}
